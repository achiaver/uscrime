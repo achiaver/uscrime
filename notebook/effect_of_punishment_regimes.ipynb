{
 "cells": [
  {
   "cell_type": "markdown",
   "metadata": {},
   "source": [
    "# US CRIME - Effect of Punishment Regimes on Crime Rates\n",
    "\n",
    "Author: **Artur Chiaperini Grover**   \n",
    "**Company**'s entrance exam      \n",
    "\n",
    "-------   \n",
    "\n",
    "In this exercise, I will create a regression model in order to find out what is the crime rate, denoted by variable `Crime`, for the following point (where variables assume the values):\n",
    "- `M = 14.0`\n",
    "- `So = 0`\n",
    "- `Ed = 10.0`\n",
    "- `Po1 = 12.0`\n",
    "- `Po2 = 15.5`\n",
    "- `LF = 0.640`\n",
    "- `M.F = 94`\n",
    "- `Pop = 150`\n",
    "- `NW = 1.1`\n",
    "- `U1 = 0.120`\n",
    "- `U2 = 3.6`\n",
    "- `Wealth = 3200`\n",
    "- `Ineq = 20.1`\n",
    "- `Prop = 0.04`\n",
    "- `Time = 39.0` \n",
    "- `Crime = ???` \n",
    "\n",
    "-------    "
   ]
  },
  {
   "cell_type": "markdown",
   "metadata": {},
   "source": [
    "# Data Description\n",
    "\n",
    "The dataset can be found in [here](http://www.statsci.org/data/general/uscrime.html), and the information below was extracted from it.\n",
    "\n",
    ">In order to investigate the effect of punishment regimes on crime rates, criminologists used the aggregated data of 47 states of the USA for 1960. The variables considered in this study are the following:   \n",
    ">\n",
    ">| Variable | Description |\n",
    ">|:---------|:------------|\n",
    ">| M\t\t| percentage of males aged 14–24 in total state population |\n",
    ">| So\t    | indicator variable for a southern state |\n",
    ">| Ed\t    | mean years of schooling of the population aged 25 years or over |\n",
    ">| Po1\t    | per capita expenditure on police protection in 1960 |\n",
    ">| Po2\t    | per capita expenditure on police protection in 1959 |\n",
    ">| LF\t    | labour force participation rate of civilian urban males in the age-group 14-24 |\n",
    ">| M.F\t    | number of males per 100 females |\n",
    ">| Pop\t    | state population in 1960 in hundred thousands |\n",
    ">| NW\t    | percentage of nonwhites in the population |\n",
    ">| U1       | unemployment rate of urban males 14–24 |\n",
    ">| U2\t    | unemployment rate of urban males 35–39 |\n",
    ">| Wealth   | wealth: median value of transferable assets or family income |\n",
    ">| Ineq\t    | income inequality: percentage of families earning below half the median income |\n",
    ">| Prob\t    | probability of imprisonment: ratio of number of commitments to number of offenses |\n",
    ">| Time\t    | average time in months served by offenders in state prisons before their first release |\n",
    ">| Crime\t| crime rate: number of offenses per 100,000 population in 1960 |   "
   ]
  },
  {
   "cell_type": "markdown",
   "metadata": {},
   "source": [
    "--------\n",
    "# Data Exploration\n",
    "\n",
    "Our goal is to model the experiment based on the dataset in order to determine the crime rate for the variables values given above. We can see the `Crime` (crime rate) as a function of the other variables, for instance:\n",
    "$$\n",
    "\\begin{equation}\n",
    "    f(\\mathbf{X}) = \\mathbf{A} * \\mathbf{X} + C, \n",
    "\\end{equation}\n",
    "$$\n",
    "where $f(\\mathbf{X}) = Y = $ `Crime`, $\\mathbf{X} = $ `(M, So, Ed, Po1, Po2, LF, M.F, Pop, NW, U1, U2, Wealth, Ineq, Prob, Time)`, $\\mathbf{A}$ are the parameters of the model, and $C$ is a constant. At this point this is just one idea to illustrate the the problem, as a linear case, which in the future may turn out to be not the reality.  \n",
    "\n",
    "Below we load the dataset and assign it to a pandas DataFrame object `df_crimes`, this allow us to have an initial look at our dataset."
   ]
  },
  {
   "cell_type": "code",
   "execution_count": 1,
   "metadata": {},
   "outputs": [],
   "source": [
    "import pandas as pd\n",
    "import numpy as np\n",
    "\n",
    "import matplotlib as mpl\n",
    "import matplotlib.pyplot as plt\n",
    "import seaborn as sns"
   ]
  },
  {
   "cell_type": "code",
   "execution_count": 2,
   "metadata": {},
   "outputs": [],
   "source": [
    "df_crimes = pd.read_csv(\"../dataset/uscrime.txt\", sep=\"\\t\")"
   ]
  },
  {
   "cell_type": "code",
   "execution_count": 3,
   "metadata": {},
   "outputs": [
    {
     "data": {
      "text/html": [
       "<div>\n",
       "<style scoped>\n",
       "    .dataframe tbody tr th:only-of-type {\n",
       "        vertical-align: middle;\n",
       "    }\n",
       "\n",
       "    .dataframe tbody tr th {\n",
       "        vertical-align: top;\n",
       "    }\n",
       "\n",
       "    .dataframe thead th {\n",
       "        text-align: right;\n",
       "    }\n",
       "</style>\n",
       "<table border=\"1\" class=\"dataframe\">\n",
       "  <thead>\n",
       "    <tr style=\"text-align: right;\">\n",
       "      <th></th>\n",
       "      <th>M</th>\n",
       "      <th>So</th>\n",
       "      <th>Ed</th>\n",
       "      <th>Po1</th>\n",
       "      <th>Po2</th>\n",
       "      <th>LF</th>\n",
       "      <th>M.F</th>\n",
       "      <th>Pop</th>\n",
       "      <th>NW</th>\n",
       "      <th>U1</th>\n",
       "      <th>U2</th>\n",
       "      <th>Wealth</th>\n",
       "      <th>Ineq</th>\n",
       "      <th>Prob</th>\n",
       "      <th>Time</th>\n",
       "      <th>Crime</th>\n",
       "    </tr>\n",
       "  </thead>\n",
       "  <tbody>\n",
       "    <tr>\n",
       "      <th>0</th>\n",
       "      <td>15.1</td>\n",
       "      <td>1</td>\n",
       "      <td>9.1</td>\n",
       "      <td>5.8</td>\n",
       "      <td>5.6</td>\n",
       "      <td>0.510</td>\n",
       "      <td>95.0</td>\n",
       "      <td>33</td>\n",
       "      <td>30.1</td>\n",
       "      <td>0.108</td>\n",
       "      <td>4.1</td>\n",
       "      <td>3940</td>\n",
       "      <td>26.1</td>\n",
       "      <td>0.084602</td>\n",
       "      <td>26.2011</td>\n",
       "      <td>791</td>\n",
       "    </tr>\n",
       "    <tr>\n",
       "      <th>1</th>\n",
       "      <td>14.3</td>\n",
       "      <td>0</td>\n",
       "      <td>11.3</td>\n",
       "      <td>10.3</td>\n",
       "      <td>9.5</td>\n",
       "      <td>0.583</td>\n",
       "      <td>101.2</td>\n",
       "      <td>13</td>\n",
       "      <td>10.2</td>\n",
       "      <td>0.096</td>\n",
       "      <td>3.6</td>\n",
       "      <td>5570</td>\n",
       "      <td>19.4</td>\n",
       "      <td>0.029599</td>\n",
       "      <td>25.2999</td>\n",
       "      <td>1635</td>\n",
       "    </tr>\n",
       "    <tr>\n",
       "      <th>2</th>\n",
       "      <td>14.2</td>\n",
       "      <td>1</td>\n",
       "      <td>8.9</td>\n",
       "      <td>4.5</td>\n",
       "      <td>4.4</td>\n",
       "      <td>0.533</td>\n",
       "      <td>96.9</td>\n",
       "      <td>18</td>\n",
       "      <td>21.9</td>\n",
       "      <td>0.094</td>\n",
       "      <td>3.3</td>\n",
       "      <td>3180</td>\n",
       "      <td>25.0</td>\n",
       "      <td>0.083401</td>\n",
       "      <td>24.3006</td>\n",
       "      <td>578</td>\n",
       "    </tr>\n",
       "    <tr>\n",
       "      <th>3</th>\n",
       "      <td>13.6</td>\n",
       "      <td>0</td>\n",
       "      <td>12.1</td>\n",
       "      <td>14.9</td>\n",
       "      <td>14.1</td>\n",
       "      <td>0.577</td>\n",
       "      <td>99.4</td>\n",
       "      <td>157</td>\n",
       "      <td>8.0</td>\n",
       "      <td>0.102</td>\n",
       "      <td>3.9</td>\n",
       "      <td>6730</td>\n",
       "      <td>16.7</td>\n",
       "      <td>0.015801</td>\n",
       "      <td>29.9012</td>\n",
       "      <td>1969</td>\n",
       "    </tr>\n",
       "    <tr>\n",
       "      <th>4</th>\n",
       "      <td>14.1</td>\n",
       "      <td>0</td>\n",
       "      <td>12.1</td>\n",
       "      <td>10.9</td>\n",
       "      <td>10.1</td>\n",
       "      <td>0.591</td>\n",
       "      <td>98.5</td>\n",
       "      <td>18</td>\n",
       "      <td>3.0</td>\n",
       "      <td>0.091</td>\n",
       "      <td>2.0</td>\n",
       "      <td>5780</td>\n",
       "      <td>17.4</td>\n",
       "      <td>0.041399</td>\n",
       "      <td>21.2998</td>\n",
       "      <td>1234</td>\n",
       "    </tr>\n",
       "  </tbody>\n",
       "</table>\n",
       "</div>"
      ],
      "text/plain": [
       "      M  So    Ed   Po1   Po2     LF    M.F  Pop    NW     U1   U2  Wealth  \\\n",
       "0  15.1   1   9.1   5.8   5.6  0.510   95.0   33  30.1  0.108  4.1    3940   \n",
       "1  14.3   0  11.3  10.3   9.5  0.583  101.2   13  10.2  0.096  3.6    5570   \n",
       "2  14.2   1   8.9   4.5   4.4  0.533   96.9   18  21.9  0.094  3.3    3180   \n",
       "3  13.6   0  12.1  14.9  14.1  0.577   99.4  157   8.0  0.102  3.9    6730   \n",
       "4  14.1   0  12.1  10.9  10.1  0.591   98.5   18   3.0  0.091  2.0    5780   \n",
       "\n",
       "   Ineq      Prob     Time  Crime  \n",
       "0  26.1  0.084602  26.2011    791  \n",
       "1  19.4  0.029599  25.2999   1635  \n",
       "2  25.0  0.083401  24.3006    578  \n",
       "3  16.7  0.015801  29.9012   1969  \n",
       "4  17.4  0.041399  21.2998   1234  "
      ]
     },
     "execution_count": 3,
     "metadata": {},
     "output_type": "execute_result"
    }
   ],
   "source": [
    "df_crimes.head(5)"
   ]
  },
  {
   "cell_type": "code",
   "execution_count": 4,
   "metadata": {},
   "outputs": [
    {
     "name": "stdout",
     "output_type": "stream",
     "text": [
      "<class 'pandas.core.frame.DataFrame'>\n",
      "RangeIndex: 47 entries, 0 to 46\n",
      "Data columns (total 16 columns):\n",
      " #   Column  Non-Null Count  Dtype  \n",
      "---  ------  --------------  -----  \n",
      " 0   M       47 non-null     float64\n",
      " 1   So      47 non-null     int64  \n",
      " 2   Ed      47 non-null     float64\n",
      " 3   Po1     47 non-null     float64\n",
      " 4   Po2     47 non-null     float64\n",
      " 5   LF      47 non-null     float64\n",
      " 6   M.F     47 non-null     float64\n",
      " 7   Pop     47 non-null     int64  \n",
      " 8   NW      47 non-null     float64\n",
      " 9   U1      47 non-null     float64\n",
      " 10  U2      47 non-null     float64\n",
      " 11  Wealth  47 non-null     int64  \n",
      " 12  Ineq    47 non-null     float64\n",
      " 13  Prob    47 non-null     float64\n",
      " 14  Time    47 non-null     float64\n",
      " 15  Crime   47 non-null     int64  \n",
      "dtypes: float64(12), int64(4)\n",
      "memory usage: 5.9 KB\n"
     ]
    }
   ],
   "source": [
    "df_crimes.info()"
   ]
  },
  {
   "cell_type": "markdown",
   "metadata": {},
   "source": [
    "Our data has no missing values, this information is shown by `df_crimes.info()` method. We can also see that most of the variables are numerical. However, according to the data description, `So` is an indicator variable which I believe is more reasonable to be used as a categorical variable, this will be addressed later.\n",
    "\n",
    "So from our data, we can see that it has dimension 47 X 15. There are 47 points (`Crime`), and each one of theses points have 15 variables. "
   ]
  },
  {
   "cell_type": "code",
   "execution_count": 5,
   "metadata": {},
   "outputs": [
    {
     "data": {
      "text/html": [
       "<div>\n",
       "<style scoped>\n",
       "    .dataframe tbody tr th:only-of-type {\n",
       "        vertical-align: middle;\n",
       "    }\n",
       "\n",
       "    .dataframe tbody tr th {\n",
       "        vertical-align: top;\n",
       "    }\n",
       "\n",
       "    .dataframe thead th {\n",
       "        text-align: right;\n",
       "    }\n",
       "</style>\n",
       "<table border=\"1\" class=\"dataframe\">\n",
       "  <thead>\n",
       "    <tr style=\"text-align: right;\">\n",
       "      <th></th>\n",
       "      <th>M</th>\n",
       "      <th>So</th>\n",
       "      <th>Ed</th>\n",
       "      <th>Po1</th>\n",
       "      <th>Po2</th>\n",
       "      <th>LF</th>\n",
       "      <th>M.F</th>\n",
       "      <th>Pop</th>\n",
       "      <th>NW</th>\n",
       "      <th>U1</th>\n",
       "      <th>U2</th>\n",
       "      <th>Wealth</th>\n",
       "      <th>Ineq</th>\n",
       "      <th>Prob</th>\n",
       "      <th>Time</th>\n",
       "      <th>Crime</th>\n",
       "    </tr>\n",
       "  </thead>\n",
       "  <tbody>\n",
       "    <tr>\n",
       "      <th>count</th>\n",
       "      <td>47.000000</td>\n",
       "      <td>47.000000</td>\n",
       "      <td>47.00000</td>\n",
       "      <td>47.000000</td>\n",
       "      <td>47.000000</td>\n",
       "      <td>47.000000</td>\n",
       "      <td>47.000000</td>\n",
       "      <td>47.000000</td>\n",
       "      <td>47.000000</td>\n",
       "      <td>47.000000</td>\n",
       "      <td>47.000000</td>\n",
       "      <td>47.000000</td>\n",
       "      <td>47.000000</td>\n",
       "      <td>47.000000</td>\n",
       "      <td>47.000000</td>\n",
       "      <td>47.000000</td>\n",
       "    </tr>\n",
       "    <tr>\n",
       "      <th>mean</th>\n",
       "      <td>13.857447</td>\n",
       "      <td>0.340426</td>\n",
       "      <td>10.56383</td>\n",
       "      <td>8.500000</td>\n",
       "      <td>8.023404</td>\n",
       "      <td>0.561191</td>\n",
       "      <td>98.302128</td>\n",
       "      <td>36.617021</td>\n",
       "      <td>10.112766</td>\n",
       "      <td>0.095468</td>\n",
       "      <td>3.397872</td>\n",
       "      <td>5253.829787</td>\n",
       "      <td>19.400000</td>\n",
       "      <td>0.047091</td>\n",
       "      <td>26.597921</td>\n",
       "      <td>905.085106</td>\n",
       "    </tr>\n",
       "    <tr>\n",
       "      <th>std</th>\n",
       "      <td>1.256763</td>\n",
       "      <td>0.478975</td>\n",
       "      <td>1.11870</td>\n",
       "      <td>2.971897</td>\n",
       "      <td>2.796132</td>\n",
       "      <td>0.040412</td>\n",
       "      <td>2.946737</td>\n",
       "      <td>38.071188</td>\n",
       "      <td>10.282882</td>\n",
       "      <td>0.018029</td>\n",
       "      <td>0.844545</td>\n",
       "      <td>964.909442</td>\n",
       "      <td>3.989606</td>\n",
       "      <td>0.022737</td>\n",
       "      <td>7.086895</td>\n",
       "      <td>386.762697</td>\n",
       "    </tr>\n",
       "    <tr>\n",
       "      <th>min</th>\n",
       "      <td>11.900000</td>\n",
       "      <td>0.000000</td>\n",
       "      <td>8.70000</td>\n",
       "      <td>4.500000</td>\n",
       "      <td>4.100000</td>\n",
       "      <td>0.480000</td>\n",
       "      <td>93.400000</td>\n",
       "      <td>3.000000</td>\n",
       "      <td>0.200000</td>\n",
       "      <td>0.070000</td>\n",
       "      <td>2.000000</td>\n",
       "      <td>2880.000000</td>\n",
       "      <td>12.600000</td>\n",
       "      <td>0.006900</td>\n",
       "      <td>12.199600</td>\n",
       "      <td>342.000000</td>\n",
       "    </tr>\n",
       "    <tr>\n",
       "      <th>25%</th>\n",
       "      <td>13.000000</td>\n",
       "      <td>0.000000</td>\n",
       "      <td>9.75000</td>\n",
       "      <td>6.250000</td>\n",
       "      <td>5.850000</td>\n",
       "      <td>0.530500</td>\n",
       "      <td>96.450000</td>\n",
       "      <td>10.000000</td>\n",
       "      <td>2.400000</td>\n",
       "      <td>0.080500</td>\n",
       "      <td>2.750000</td>\n",
       "      <td>4595.000000</td>\n",
       "      <td>16.550000</td>\n",
       "      <td>0.032701</td>\n",
       "      <td>21.600350</td>\n",
       "      <td>658.500000</td>\n",
       "    </tr>\n",
       "    <tr>\n",
       "      <th>50%</th>\n",
       "      <td>13.600000</td>\n",
       "      <td>0.000000</td>\n",
       "      <td>10.80000</td>\n",
       "      <td>7.800000</td>\n",
       "      <td>7.300000</td>\n",
       "      <td>0.560000</td>\n",
       "      <td>97.700000</td>\n",
       "      <td>25.000000</td>\n",
       "      <td>7.600000</td>\n",
       "      <td>0.092000</td>\n",
       "      <td>3.400000</td>\n",
       "      <td>5370.000000</td>\n",
       "      <td>17.600000</td>\n",
       "      <td>0.042100</td>\n",
       "      <td>25.800600</td>\n",
       "      <td>831.000000</td>\n",
       "    </tr>\n",
       "    <tr>\n",
       "      <th>75%</th>\n",
       "      <td>14.600000</td>\n",
       "      <td>1.000000</td>\n",
       "      <td>11.45000</td>\n",
       "      <td>10.450000</td>\n",
       "      <td>9.700000</td>\n",
       "      <td>0.593000</td>\n",
       "      <td>99.200000</td>\n",
       "      <td>41.500000</td>\n",
       "      <td>13.250000</td>\n",
       "      <td>0.104000</td>\n",
       "      <td>3.850000</td>\n",
       "      <td>5915.000000</td>\n",
       "      <td>22.750000</td>\n",
       "      <td>0.054450</td>\n",
       "      <td>30.450750</td>\n",
       "      <td>1057.500000</td>\n",
       "    </tr>\n",
       "    <tr>\n",
       "      <th>max</th>\n",
       "      <td>17.700000</td>\n",
       "      <td>1.000000</td>\n",
       "      <td>12.20000</td>\n",
       "      <td>16.600000</td>\n",
       "      <td>15.700000</td>\n",
       "      <td>0.641000</td>\n",
       "      <td>107.100000</td>\n",
       "      <td>168.000000</td>\n",
       "      <td>42.300000</td>\n",
       "      <td>0.142000</td>\n",
       "      <td>5.800000</td>\n",
       "      <td>6890.000000</td>\n",
       "      <td>27.600000</td>\n",
       "      <td>0.119804</td>\n",
       "      <td>44.000400</td>\n",
       "      <td>1993.000000</td>\n",
       "    </tr>\n",
       "  </tbody>\n",
       "</table>\n",
       "</div>"
      ],
      "text/plain": [
       "               M         So        Ed        Po1        Po2         LF  \\\n",
       "count  47.000000  47.000000  47.00000  47.000000  47.000000  47.000000   \n",
       "mean   13.857447   0.340426  10.56383   8.500000   8.023404   0.561191   \n",
       "std     1.256763   0.478975   1.11870   2.971897   2.796132   0.040412   \n",
       "min    11.900000   0.000000   8.70000   4.500000   4.100000   0.480000   \n",
       "25%    13.000000   0.000000   9.75000   6.250000   5.850000   0.530500   \n",
       "50%    13.600000   0.000000  10.80000   7.800000   7.300000   0.560000   \n",
       "75%    14.600000   1.000000  11.45000  10.450000   9.700000   0.593000   \n",
       "max    17.700000   1.000000  12.20000  16.600000  15.700000   0.641000   \n",
       "\n",
       "              M.F         Pop         NW         U1         U2       Wealth  \\\n",
       "count   47.000000   47.000000  47.000000  47.000000  47.000000    47.000000   \n",
       "mean    98.302128   36.617021  10.112766   0.095468   3.397872  5253.829787   \n",
       "std      2.946737   38.071188  10.282882   0.018029   0.844545   964.909442   \n",
       "min     93.400000    3.000000   0.200000   0.070000   2.000000  2880.000000   \n",
       "25%     96.450000   10.000000   2.400000   0.080500   2.750000  4595.000000   \n",
       "50%     97.700000   25.000000   7.600000   0.092000   3.400000  5370.000000   \n",
       "75%     99.200000   41.500000  13.250000   0.104000   3.850000  5915.000000   \n",
       "max    107.100000  168.000000  42.300000   0.142000   5.800000  6890.000000   \n",
       "\n",
       "            Ineq       Prob       Time        Crime  \n",
       "count  47.000000  47.000000  47.000000    47.000000  \n",
       "mean   19.400000   0.047091  26.597921   905.085106  \n",
       "std     3.989606   0.022737   7.086895   386.762697  \n",
       "min    12.600000   0.006900  12.199600   342.000000  \n",
       "25%    16.550000   0.032701  21.600350   658.500000  \n",
       "50%    17.600000   0.042100  25.800600   831.000000  \n",
       "75%    22.750000   0.054450  30.450750  1057.500000  \n",
       "max    27.600000   0.119804  44.000400  1993.000000  "
      ]
     },
     "execution_count": 5,
     "metadata": {},
     "output_type": "execute_result"
    }
   ],
   "source": [
    "df_crimes.describe()"
   ]
  },
  {
   "cell_type": "markdown",
   "metadata": {},
   "source": [
    "Then, another useful method of `df_crimes` object is `.describe()` which summarises the variables and we can start to see the minimum and maximum of the dataset, as well as the mean values of each varible.  \n",
    "\n",
    "We can see that the total count holds for every variable as was shown by `.info()` method, and we also see that all of the variables are positive. Given the kind of study these variables relate to, the fact that all of them are positive is rather expected. These variables, according to the description, are porcentages, counts, and averages of positive or null numbers, thus we would not expect to find a negative number.   \n",
    "\n",
    "In this problem we can initially think that we have 15 independent variables `(M, So, Ed, Po1, Po2, LF, M.F, Pop, NW, U1, U2, Wealth, Ineq, Prob, Time)`, and then a dependent variable `Crime`.\n",
    "\n",
    "The heatmap is a good visualization to look for correlation between variables and with the dependent variable. In case we have high correlation between variables, we can think of applying some kind of dimensionality reduction, or even eliminating one of the variables if the correlation is too strong."
   ]
  },
  {
   "cell_type": "code",
   "execution_count": 6,
   "metadata": {},
   "outputs": [
    {
     "data": {
      "image/png": "[encoded data removed]",
      "text/plain": [
       "<Figure size 1080x936 with 2 Axes>"
      ]
     },
     "metadata": {
      "needs_background": "light"
     },
     "output_type": "display_data"
    }
   ],
   "source": [
    "fig, ax = plt.subplots(figsize=(15,13))\n",
    "\n",
    "corr_crimes = df_crimes.corr()\n",
    "\n",
    "sns.heatmap(corr_crimes, vmin=-1.0, vmax=1.0, center=0.0, fmt='.2f',\n",
    "                square=True, linewidths=0.5, annot=True, cmap='YlGnBu')\n",
    "\n",
    "plt.yticks(rotation=0)\n",
    "plt.show()"
   ]
  },
  {
   "cell_type": "markdown",
   "metadata": {},
   "source": [
    "The heatmap above shows the pearson correlation between variables, which varies from -1.0 (negative correlation) to 1.0 (positive correlation):\n",
    "- Negative Correlation: variables behave in the opposite direction, while variable A is increasing, variable B is decreasing.\n",
    "- Positive Correlation: both variables A and B behave in the same direction, such that when A increases, B increases as well.\n",
    "- No Correlation (values close to 0.0): there is no relationship between the variables A and B.   \n",
    "\n",
    "We can see that some variables have a strong positive correlation between each other, below is an enumeration of set of variables that present some significant correlation value:\n",
    "- `Po1` and `Po2` have positive correlation of 0.99.\n",
    "- `Wealth` and `Ed`, `Wealth` and `Po1`, `Wealth` and `Po2` have positive correlations, respectively, 0.74, 0.79, 0.79.\n",
    "- `NW` and `So` have a correlation of 0.77.\n",
    "- `Ineq` and `Ed` have a negative correlation of -0.77.\n",
    "- `Wealth` and `Ineq` have a negative correlation of -0.88.\n",
    "- `U1` and `U2` have a positive correlation of 0.75.\n",
    "\n",
    "\n",
    "\n",
    "At this point the idea is not to explain why these behaviours happen, but to point out what we can see from the data. Nevertheless, `Po1` and `Po2` high correlation is due to the fact that the values of both columns are pretty much the same. This aspect is shown on the Figure below, where the linear relationship between `Po1` and `Po2` is rather clear. Because of the linear relation between theses two variables, we will continue the analysis considering only `Po1`. Another reason to keep only `Po1` instead of `Po2` is that `Po1` correlation with `Crime` is greater than the correlation of `Po2` and `Crime`."
   ]
  },
  {
   "cell_type": "code",
   "execution_count": 7,
   "metadata": {},
   "outputs": [
    {
     "data": {
      "image/png": "[encoded data removed]",
      "text/plain": [
       "<Figure size 936x504 with 1 Axes>"
      ]
     },
     "metadata": {
      "needs_background": "light"
     },
     "output_type": "display_data"
    }
   ],
   "source": [
    "xmax = df_crimes['Po1'].max() + 1\n",
    "ymax = df_crimes['Po2'].max() + 1\n",
    "\n",
    "fig = plt.figure(figsize=(13,7))\n",
    "gs = mpl.gridspec.GridSpec(1,1, figure=fig)\n",
    "\n",
    "ax0 = fig.add_subplot(gs[0,0])\n",
    "ax0 = sns.scatterplot(x='Po1', y='Po2', data=df_crimes)\n",
    "ax0.set_xlim((0, xmax))\n",
    "ax0.set_ylim((0, ymax))\n",
    "ax0.set_title(\"Scatterplot Po2 X Po1\")\n",
    "\n",
    "plt.show()"
   ]
  },
  {
   "cell_type": "markdown",
   "metadata": {},
   "source": [
    "In the following Figure, we will look at the relationship of `Wealth` and the variables `Ed`, `Po1`, `Ineq` and `M`. "
   ]
  },
  {
   "cell_type": "code",
   "execution_count": 8,
   "metadata": {},
   "outputs": [
    {
     "data": {
      "image/png": "[encoded data removed]",
      "text/plain": [
       "<Figure size 936x504 with 4 Axes>"
      ]
     },
     "metadata": {
      "needs_background": "light"
     },
     "output_type": "display_data"
    }
   ],
   "source": [
    "fig = plt.figure(figsize=(13,7))\n",
    "gs = mpl.gridspec.GridSpec(2,2, figure=fig)\n",
    "\n",
    "ax0 = fig.add_subplot(gs[0,0])\n",
    "ax0 = sns.scatterplot(x='Ed', y='Wealth', data=df_crimes)\n",
    "ax0.set_title(\"Scatterplot Wealth X Ed\")\n",
    "\n",
    "ax1 = fig.add_subplot(gs[0,1])\n",
    "ax1 = sns.scatterplot(x='Po1', y='Wealth', data=df_crimes)\n",
    "ax1.set_title(\"Scatterplot Wealth X Po1\")\n",
    "\n",
    "ax2 = fig.add_subplot(gs[1,0])\n",
    "ax2 = sns.scatterplot(x='Ineq', y='Wealth', data=df_crimes)\n",
    "ax2.set_title(\"Scatterplot Wealth X Ineq\")\n",
    "\n",
    "ax3 = fig.add_subplot(gs[1,1])\n",
    "ax3 = sns.scatterplot(x='M', y='Wealth', data=df_crimes)\n",
    "ax3.set_title(\"Scatterplot Wealth X M\")\n",
    "\n",
    "plt.tight_layout()\n",
    "plt.show()"
   ]
  },
  {
   "cell_type": "markdown",
   "metadata": {},
   "source": [
    "The top graphs show that `Wealth` increase as `Ed` and `Po1` increase, while `Wealth` decreases as `Ineq` and `M` increase. Theses trends are very subtle in all four cases, but it matches exactly what we got from the correlation map. \n",
    "\n",
    "So far we have been looking at the independent variables. We can also have a look at the distribution of crime rates."
   ]
  },
  {
   "cell_type": "code",
   "execution_count": 71,
   "metadata": {},
   "outputs": [
    {
     "data": {
      "image/png": "[encoded data removed]",
      "text/plain": [
       "<Figure size 648x216 with 1 Axes>"
      ]
     },
     "metadata": {
      "needs_background": "light"
     },
     "output_type": "display_data"
    }
   ],
   "source": [
    "fig, axes = plt.subplots(figsize=(9,3))\n",
    "\n",
    "axes = sns.boxplot(x='Crime', data=df_crimes)\n",
    "\n",
    "plt.title(\"Crime rates distribution\")\n",
    "plt.show()"
   ]
  },
  {
   "cell_type": "markdown",
   "metadata": {},
   "source": [
    "-------\n",
    "# Data Modeling\n",
    "\n",
    "Now at this step we will be testing a few modeling options before making a decision.\n",
    "\n",
    "To tackle this problem we are going to make use of [scikit-learn](https://scikit-learn.org/stable/index.html) module.\n",
    "\n",
    "From the analysis done on data exploration, we will no longer take into consideration the variable `Po2`."
   ]
  },
  {
   "cell_type": "code",
   "execution_count": 9,
   "metadata": {},
   "outputs": [],
   "source": [
    "df_crimes.drop('Po2', axis=1, inplace=True)"
   ]
  },
  {
   "cell_type": "code",
   "execution_count": 10,
   "metadata": {},
   "outputs": [],
   "source": [
    "from sklearn.model_selection import train_test_split\n",
    "from sklearn.pipeline import Pipeline\n",
    "from sklearn.compose import ColumnTransformer\n",
    "from sklearn.preprocessing import StandardScaler, PolynomialFeatures\n",
    "from sklearn.linear_model import LinearRegression, ElasticNet"
   ]
  },
  {
   "cell_type": "markdown",
   "metadata": {},
   "source": [
    "### Multivariate Linear Regression\n",
    "\n",
    "As an initial trial we can think about the relationship between `Crime` and the other variables as a linear relationship.\n",
    "\n",
    "In statistic modeling, whenever we have variables that are in different scale, we transform them to standard score units, also known as z-score. This transformation changes the scale of the variables, so that for each point of each variable the value is dimensionless. By doing so, we avoid scaling and magnitude differences, for instance, if we take `Wealth` and `U1`, `Wealth` maximum is 6890, while `U1` maximum is 0.142, there is a huge magnitude difference, and it can wrongly biases the model in a way it may give `Wealth` more importance than `U1`.\n",
    "\n",
    "In this exercise we will apply standard scale to the variables using the method `StandardScaler` of `scikit-learn`.\n",
    "\n",
    "Below, `to_predict` holds the information of the point we would like to predict the crime rate."
   ]
  },
  {
   "cell_type": "code",
   "execution_count": 11,
   "metadata": {},
   "outputs": [
    {
     "data": {
      "text/html": [
       "<div>\n",
       "<style scoped>\n",
       "    .dataframe tbody tr th:only-of-type {\n",
       "        vertical-align: middle;\n",
       "    }\n",
       "\n",
       "    .dataframe tbody tr th {\n",
       "        vertical-align: top;\n",
       "    }\n",
       "\n",
       "    .dataframe thead th {\n",
       "        text-align: right;\n",
       "    }\n",
       "</style>\n",
       "<table border=\"1\" class=\"dataframe\">\n",
       "  <thead>\n",
       "    <tr style=\"text-align: right;\">\n",
       "      <th></th>\n",
       "      <th>M</th>\n",
       "      <th>So</th>\n",
       "      <th>Ed</th>\n",
       "      <th>Po1</th>\n",
       "      <th>LF</th>\n",
       "      <th>M.F</th>\n",
       "      <th>Pop</th>\n",
       "      <th>NW</th>\n",
       "      <th>U1</th>\n",
       "      <th>U2</th>\n",
       "      <th>Wealth</th>\n",
       "      <th>Ineq</th>\n",
       "      <th>Prob</th>\n",
       "      <th>Time</th>\n",
       "    </tr>\n",
       "  </thead>\n",
       "  <tbody>\n",
       "    <tr>\n",
       "      <th>0</th>\n",
       "      <td>14.0</td>\n",
       "      <td>0.0</td>\n",
       "      <td>10.0</td>\n",
       "      <td>12.0</td>\n",
       "      <td>0.64</td>\n",
       "      <td>94.0</td>\n",
       "      <td>150.0</td>\n",
       "      <td>1.1</td>\n",
       "      <td>0.12</td>\n",
       "      <td>3.6</td>\n",
       "      <td>3200.0</td>\n",
       "      <td>20.1</td>\n",
       "      <td>0.04</td>\n",
       "      <td>39.0</td>\n",
       "    </tr>\n",
       "  </tbody>\n",
       "</table>\n",
       "</div>"
      ],
      "text/plain": [
       "      M   So    Ed   Po1    LF   M.F    Pop   NW    U1   U2  Wealth  Ineq  \\\n",
       "0  14.0  0.0  10.0  12.0  0.64  94.0  150.0  1.1  0.12  3.6  3200.0  20.1   \n",
       "\n",
       "   Prob  Time  \n",
       "0  0.04  39.0  "
      ]
     },
     "execution_count": 11,
     "metadata": {},
     "output_type": "execute_result"
    }
   ],
   "source": [
    "to_predict = pd.DataFrame(np.array([[14.0, 0, 10.0, 12, 0.640, 94, 150, 1.1, 0.120, 3.6, 3200, 20.1, 0.04, 39]]), \n",
    "                          columns=df_crimes.drop('Crime', axis=1).columns.values)\n",
    "to_predict"
   ]
  },
  {
   "cell_type": "code",
   "execution_count": 12,
   "metadata": {},
   "outputs": [],
   "source": [
    "results = {}"
   ]
  },
  {
   "cell_type": "markdown",
   "metadata": {},
   "source": [
    "With `scikit-learn` it is possible to run a set of process using a `Pipeline`, this automizes the transformation with `StandardScaler` and the linear regression."
   ]
  },
  {
   "cell_type": "code",
   "execution_count": 13,
   "metadata": {},
   "outputs": [],
   "source": [
    "numerical_var = [col for col in df_crimes.columns if (col != 'Crime') and (col != 'So')]\n",
    "categorical_var = ['So']\n",
    "\n",
    "numerical_transformer = Pipeline(steps=[('scaler', StandardScaler())])"
   ]
  },
  {
   "cell_type": "code",
   "execution_count": 14,
   "metadata": {},
   "outputs": [],
   "source": [
    "preprocessor = ColumnTransformer(\n",
    "                    transformers=[\n",
    "                        ('num', numerical_transformer, numerical_var)])"
   ]
  },
  {
   "cell_type": "markdown",
   "metadata": {},
   "source": [
    "We also have to separete the dependent variable from the independent variables, we assign the features that will be used in the regression to `X` and the crime rates, `Crime`, to `y`."
   ]
  },
  {
   "cell_type": "code",
   "execution_count": 15,
   "metadata": {},
   "outputs": [],
   "source": [
    "X = df_crimes.drop('Crime', axis=1)\n",
    "y = df_crimes['Crime']"
   ]
  },
  {
   "cell_type": "code",
   "execution_count": 16,
   "metadata": {},
   "outputs": [
    {
     "data": {
      "text/html": [
       "<div>\n",
       "<style scoped>\n",
       "    .dataframe tbody tr th:only-of-type {\n",
       "        vertical-align: middle;\n",
       "    }\n",
       "\n",
       "    .dataframe tbody tr th {\n",
       "        vertical-align: top;\n",
       "    }\n",
       "\n",
       "    .dataframe thead th {\n",
       "        text-align: right;\n",
       "    }\n",
       "</style>\n",
       "<table border=\"1\" class=\"dataframe\">\n",
       "  <thead>\n",
       "    <tr style=\"text-align: right;\">\n",
       "      <th></th>\n",
       "      <th>M</th>\n",
       "      <th>So</th>\n",
       "      <th>Ed</th>\n",
       "      <th>Po1</th>\n",
       "      <th>LF</th>\n",
       "      <th>M.F</th>\n",
       "      <th>Pop</th>\n",
       "      <th>NW</th>\n",
       "      <th>U1</th>\n",
       "      <th>U2</th>\n",
       "      <th>Wealth</th>\n",
       "      <th>Ineq</th>\n",
       "      <th>Prob</th>\n",
       "      <th>Time</th>\n",
       "    </tr>\n",
       "  </thead>\n",
       "  <tbody>\n",
       "    <tr>\n",
       "      <th>0</th>\n",
       "      <td>15.1</td>\n",
       "      <td>1</td>\n",
       "      <td>9.1</td>\n",
       "      <td>5.8</td>\n",
       "      <td>0.510</td>\n",
       "      <td>95.0</td>\n",
       "      <td>33</td>\n",
       "      <td>30.1</td>\n",
       "      <td>0.108</td>\n",
       "      <td>4.1</td>\n",
       "      <td>3940</td>\n",
       "      <td>26.1</td>\n",
       "      <td>0.084602</td>\n",
       "      <td>26.2011</td>\n",
       "    </tr>\n",
       "    <tr>\n",
       "      <th>1</th>\n",
       "      <td>14.3</td>\n",
       "      <td>0</td>\n",
       "      <td>11.3</td>\n",
       "      <td>10.3</td>\n",
       "      <td>0.583</td>\n",
       "      <td>101.2</td>\n",
       "      <td>13</td>\n",
       "      <td>10.2</td>\n",
       "      <td>0.096</td>\n",
       "      <td>3.6</td>\n",
       "      <td>5570</td>\n",
       "      <td>19.4</td>\n",
       "      <td>0.029599</td>\n",
       "      <td>25.2999</td>\n",
       "    </tr>\n",
       "    <tr>\n",
       "      <th>2</th>\n",
       "      <td>14.2</td>\n",
       "      <td>1</td>\n",
       "      <td>8.9</td>\n",
       "      <td>4.5</td>\n",
       "      <td>0.533</td>\n",
       "      <td>96.9</td>\n",
       "      <td>18</td>\n",
       "      <td>21.9</td>\n",
       "      <td>0.094</td>\n",
       "      <td>3.3</td>\n",
       "      <td>3180</td>\n",
       "      <td>25.0</td>\n",
       "      <td>0.083401</td>\n",
       "      <td>24.3006</td>\n",
       "    </tr>\n",
       "  </tbody>\n",
       "</table>\n",
       "</div>"
      ],
      "text/plain": [
       "      M  So    Ed   Po1     LF    M.F  Pop    NW     U1   U2  Wealth  Ineq  \\\n",
       "0  15.1   1   9.1   5.8  0.510   95.0   33  30.1  0.108  4.1    3940  26.1   \n",
       "1  14.3   0  11.3  10.3  0.583  101.2   13  10.2  0.096  3.6    5570  19.4   \n",
       "2  14.2   1   8.9   4.5  0.533   96.9   18  21.9  0.094  3.3    3180  25.0   \n",
       "\n",
       "       Prob     Time  \n",
       "0  0.084602  26.2011  \n",
       "1  0.029599  25.2999  \n",
       "2  0.083401  24.3006  "
      ]
     },
     "execution_count": 16,
     "metadata": {},
     "output_type": "execute_result"
    }
   ],
   "source": [
    "X.head(3)"
   ]
  },
  {
   "cell_type": "code",
   "execution_count": 17,
   "metadata": {},
   "outputs": [
    {
     "data": {
      "text/plain": [
       "0     791\n",
       "1    1635\n",
       "2     578\n",
       "Name: Crime, dtype: int64"
      ]
     },
     "execution_count": 17,
     "metadata": {},
     "output_type": "execute_result"
    }
   ],
   "source": [
    "y.head(3)"
   ]
  },
  {
   "cell_type": "markdown",
   "metadata": {},
   "source": [
    "Before running the linear regression, we can split the dataset into a training set and a testing set. Whatever data is used on the training set is not part of the testing set and vice-versa. Then we use the training set to model the regression and the testing set to evaluate how good our model is. "
   ]
  },
  {
   "cell_type": "code",
   "execution_count": 18,
   "metadata": {},
   "outputs": [],
   "source": [
    "X_train, X_test, y_train, y_test = train_test_split(X, y, test_size=0.3, random_state=42, shuffle=True)"
   ]
  },
  {
   "cell_type": "markdown",
   "metadata": {},
   "source": [
    "`full_linreg` is the whole processing flow. After we have fit the model to the data, we can check out the `score` which is the coefficient of determination, also known as r-squared. This value measures how accurate the modeling is, if r-squared is 1, then there is a perfect prediction."
   ]
  },
  {
   "cell_type": "code",
   "execution_count": 19,
   "metadata": {},
   "outputs": [],
   "source": [
    "full_linreg = Pipeline(steps=[('preprocessor', preprocessor),\n",
    "                      ('regression', LinearRegression(normalize=False))])"
   ]
  },
  {
   "cell_type": "code",
   "execution_count": 20,
   "metadata": {},
   "outputs": [
    {
     "data": {
      "text/plain": [
       "Pipeline(steps=[('preprocessor',\n",
       "                 ColumnTransformer(transformers=[('num',\n",
       "                                                  Pipeline(steps=[('scaler',\n",
       "                                                                   StandardScaler())]),\n",
       "                                                  ['M', 'Ed', 'Po1', 'LF',\n",
       "                                                   'M.F', 'Pop', 'NW', 'U1',\n",
       "                                                   'U2', 'Wealth', 'Ineq',\n",
       "                                                   'Prob', 'Time'])])),\n",
       "                ('regression', LinearRegression())])"
      ]
     },
     "execution_count": 20,
     "metadata": {},
     "output_type": "execute_result"
    }
   ],
   "source": [
    "full_linreg.fit(X_train, y_train)"
   ]
  },
  {
   "cell_type": "code",
   "execution_count": 21,
   "metadata": {},
   "outputs": [
    {
     "name": "stdout",
     "output_type": "stream",
     "text": [
      "0.6851501882191149\n",
      "0.7778052030498175\n"
     ]
    }
   ],
   "source": [
    "print(full_linreg.score(X_train, y_train))\n",
    "print(full_linreg.score(X_test, y_test))"
   ]
  },
  {
   "cell_type": "markdown",
   "metadata": {},
   "source": [
    "To keep track of tests and mdeling, I have saved some results in a dictionary called `results`."
   ]
  },
  {
   "cell_type": "code",
   "execution_count": 22,
   "metadata": {},
   "outputs": [],
   "source": [
    "results['full_linreg'] = {'train_score': full_linreg.score(X_train, y_train),\n",
    "                          'test_score': full_linreg.score(X_test, y_test)}"
   ]
  },
  {
   "cell_type": "code",
   "execution_count": 23,
   "metadata": {},
   "outputs": [],
   "source": [
    "crime = full_linreg.predict(to_predict)"
   ]
  },
  {
   "cell_type": "code",
   "execution_count": 24,
   "metadata": {},
   "outputs": [],
   "source": [
    "results['full_linreg']['predicted'] = crime[0]"
   ]
  },
  {
   "cell_type": "markdown",
   "metadata": {},
   "source": [
    "Considering all variables, with exception of `Po2`, the linear regression modeled managed to predict for the point provided the crime rate of:"
   ]
  },
  {
   "cell_type": "code",
   "execution_count": 25,
   "metadata": {},
   "outputs": [
    {
     "name": "stdout",
     "output_type": "stream",
     "text": [
      "Crime rate = 1056.2779738661209\n"
     ]
    }
   ],
   "source": [
    "print(\"Crime rate = {}\".format(results['full_linreg']['predicted']))"
   ]
  },
  {
   "cell_type": "markdown",
   "metadata": {},
   "source": [
    "We can test other approaches, for instance, we take only the variables that had a correlation coeffient within the following ranges:\n",
    "- 0.3 to 0.7. \n",
    "- -0.7 to -0.3.\n",
    "\n",
    "By doing so we would not exclude variables that have a negative correlation with `Crime`. And then we try to keep only variables that seems to be more relevant to describe the phenomenon of crime rates."
   ]
  },
  {
   "cell_type": "code",
   "execution_count": 26,
   "metadata": {},
   "outputs": [
    {
     "name": "stdout",
     "output_type": "stream",
     "text": [
      "M        -0.089472\n",
      "So       -0.090637\n",
      "Ed        0.322835\n",
      "Po1       0.687604\n",
      "LF        0.188866\n",
      "M.F       0.213914\n",
      "Pop       0.337474\n",
      "NW        0.032599\n",
      "U1       -0.050478\n",
      "U2        0.177321\n",
      "Wealth    0.441320\n",
      "Ineq     -0.179024\n",
      "Prob     -0.427422\n",
      "Time      0.149866\n",
      "Crime     1.000000\n",
      "Name: Crime, dtype: float64\n"
     ]
    }
   ],
   "source": [
    "corr_value = df_crimes.corr()['Crime']\n",
    "print(corr_value)"
   ]
  },
  {
   "cell_type": "code",
   "execution_count": 27,
   "metadata": {},
   "outputs": [],
   "source": [
    "conditional = (corr_value > -0.7) & (corr_value < -0.3) | (corr_value > 0.3) & (corr_value < 0.7)"
   ]
  },
  {
   "cell_type": "code",
   "execution_count": 28,
   "metadata": {},
   "outputs": [],
   "source": [
    "X_2 = X[df_crimes.loc[:, conditional].columns.values]"
   ]
  },
  {
   "cell_type": "code",
   "execution_count": 29,
   "metadata": {},
   "outputs": [
    {
     "data": {
      "text/html": [
       "<div>\n",
       "<style scoped>\n",
       "    .dataframe tbody tr th:only-of-type {\n",
       "        vertical-align: middle;\n",
       "    }\n",
       "\n",
       "    .dataframe tbody tr th {\n",
       "        vertical-align: top;\n",
       "    }\n",
       "\n",
       "    .dataframe thead th {\n",
       "        text-align: right;\n",
       "    }\n",
       "</style>\n",
       "<table border=\"1\" class=\"dataframe\">\n",
       "  <thead>\n",
       "    <tr style=\"text-align: right;\">\n",
       "      <th></th>\n",
       "      <th>Ed</th>\n",
       "      <th>Po1</th>\n",
       "      <th>Pop</th>\n",
       "      <th>Wealth</th>\n",
       "      <th>Prob</th>\n",
       "    </tr>\n",
       "  </thead>\n",
       "  <tbody>\n",
       "    <tr>\n",
       "      <th>0</th>\n",
       "      <td>9.1</td>\n",
       "      <td>5.8</td>\n",
       "      <td>33</td>\n",
       "      <td>3940</td>\n",
       "      <td>0.084602</td>\n",
       "    </tr>\n",
       "    <tr>\n",
       "      <th>1</th>\n",
       "      <td>11.3</td>\n",
       "      <td>10.3</td>\n",
       "      <td>13</td>\n",
       "      <td>5570</td>\n",
       "      <td>0.029599</td>\n",
       "    </tr>\n",
       "    <tr>\n",
       "      <th>2</th>\n",
       "      <td>8.9</td>\n",
       "      <td>4.5</td>\n",
       "      <td>18</td>\n",
       "      <td>3180</td>\n",
       "      <td>0.083401</td>\n",
       "    </tr>\n",
       "    <tr>\n",
       "      <th>3</th>\n",
       "      <td>12.1</td>\n",
       "      <td>14.9</td>\n",
       "      <td>157</td>\n",
       "      <td>6730</td>\n",
       "      <td>0.015801</td>\n",
       "    </tr>\n",
       "    <tr>\n",
       "      <th>4</th>\n",
       "      <td>12.1</td>\n",
       "      <td>10.9</td>\n",
       "      <td>18</td>\n",
       "      <td>5780</td>\n",
       "      <td>0.041399</td>\n",
       "    </tr>\n",
       "  </tbody>\n",
       "</table>\n",
       "</div>"
      ],
      "text/plain": [
       "     Ed   Po1  Pop  Wealth      Prob\n",
       "0   9.1   5.8   33    3940  0.084602\n",
       "1  11.3  10.3   13    5570  0.029599\n",
       "2   8.9   4.5   18    3180  0.083401\n",
       "3  12.1  14.9  157    6730  0.015801\n",
       "4  12.1  10.9   18    5780  0.041399"
      ]
     },
     "execution_count": 29,
     "metadata": {},
     "output_type": "execute_result"
    }
   ],
   "source": [
    "X_2.head(5)"
   ]
  },
  {
   "cell_type": "code",
   "execution_count": 30,
   "metadata": {},
   "outputs": [],
   "source": [
    "preprocessor = ColumnTransformer(\n",
    "                    transformers=[\n",
    "                        ('num', numerical_transformer, X_2.columns.values)])"
   ]
  },
  {
   "cell_type": "code",
   "execution_count": 31,
   "metadata": {},
   "outputs": [],
   "source": [
    "corr_linreg = Pipeline(steps=[('preprocessor', preprocessor),\n",
    "                      ('regression', LinearRegression(normalize=False))])"
   ]
  },
  {
   "cell_type": "code",
   "execution_count": 32,
   "metadata": {},
   "outputs": [],
   "source": [
    "X_train, X_test, y_train, y_test = train_test_split(X_2, y, test_size=0.3, random_state=42, shuffle=True)"
   ]
  },
  {
   "cell_type": "code",
   "execution_count": 33,
   "metadata": {},
   "outputs": [
    {
     "data": {
      "text/plain": [
       "Pipeline(steps=[('preprocessor',\n",
       "                 ColumnTransformer(transformers=[('num',\n",
       "                                                  Pipeline(steps=[('scaler',\n",
       "                                                                   StandardScaler())]),\n",
       "                                                  array(['Ed', 'Po1', 'Pop', 'Wealth', 'Prob'], dtype=object))])),\n",
       "                ('regression', LinearRegression())])"
      ]
     },
     "execution_count": 33,
     "metadata": {},
     "output_type": "execute_result"
    }
   ],
   "source": [
    "corr_linreg.fit(X_train, y_train)\n"
   ]
  },
  {
   "cell_type": "code",
   "execution_count": 34,
   "metadata": {},
   "outputs": [],
   "source": [
    "train_score = corr_linreg.score(X_train, y_train)\n",
    "test_score = corr_linreg.score(X_test, y_test)"
   ]
  },
  {
   "cell_type": "code",
   "execution_count": 35,
   "metadata": {},
   "outputs": [],
   "source": [
    "crime = corr_linreg.predict(to_predict[X_2.columns])"
   ]
  },
  {
   "cell_type": "code",
   "execution_count": 36,
   "metadata": {},
   "outputs": [],
   "source": [
    "results['corr_linreg'] = {'train_score': train_score,\n",
    "                          'test_score': test_score,\n",
    "                          'predicted': crime[0]}"
   ]
  },
  {
   "cell_type": "code",
   "execution_count": 37,
   "metadata": {},
   "outputs": [
    {
     "data": {
      "text/html": [
       "<div>\n",
       "<style scoped>\n",
       "    .dataframe tbody tr th:only-of-type {\n",
       "        vertical-align: middle;\n",
       "    }\n",
       "\n",
       "    .dataframe tbody tr th {\n",
       "        vertical-align: top;\n",
       "    }\n",
       "\n",
       "    .dataframe thead th {\n",
       "        text-align: right;\n",
       "    }\n",
       "</style>\n",
       "<table border=\"1\" class=\"dataframe\">\n",
       "  <thead>\n",
       "    <tr style=\"text-align: right;\">\n",
       "      <th></th>\n",
       "      <th>full_linreg</th>\n",
       "      <th>corr_linreg</th>\n",
       "    </tr>\n",
       "  </thead>\n",
       "  <tbody>\n",
       "    <tr>\n",
       "      <th>train_score</th>\n",
       "      <td>0.685150</td>\n",
       "      <td>0.412042</td>\n",
       "    </tr>\n",
       "    <tr>\n",
       "      <th>test_score</th>\n",
       "      <td>0.777805</td>\n",
       "      <td>0.509093</td>\n",
       "    </tr>\n",
       "    <tr>\n",
       "      <th>predicted</th>\n",
       "      <td>1056.277974</td>\n",
       "      <td>1370.027254</td>\n",
       "    </tr>\n",
       "  </tbody>\n",
       "</table>\n",
       "</div>"
      ],
      "text/plain": [
       "             full_linreg  corr_linreg\n",
       "train_score     0.685150     0.412042\n",
       "test_score      0.777805     0.509093\n",
       "predicted    1056.277974  1370.027254"
      ]
     },
     "execution_count": 37,
     "metadata": {},
     "output_type": "execute_result"
    }
   ],
   "source": [
    "pd.DataFrame(results)"
   ]
  },
  {
   "cell_type": "markdown",
   "metadata": {},
   "source": [
    "From the table above, we can see that considering only variables with correlation coefficients with the purposed ranges did not improved the final result compared to using all variables.\n",
    "\n",
    "Still using the idea of limiting variables by the correlation values, we can increase a little bit the ranges, but keeping outside the variables that had values closer to zero."
   ]
  },
  {
   "cell_type": "code",
   "execution_count": 38,
   "metadata": {},
   "outputs": [
    {
     "data": {
      "text/html": [
       "<div>\n",
       "<style scoped>\n",
       "    .dataframe tbody tr th:only-of-type {\n",
       "        vertical-align: middle;\n",
       "    }\n",
       "\n",
       "    .dataframe tbody tr th {\n",
       "        vertical-align: top;\n",
       "    }\n",
       "\n",
       "    .dataframe thead th {\n",
       "        text-align: right;\n",
       "    }\n",
       "</style>\n",
       "<table border=\"1\" class=\"dataframe\">\n",
       "  <thead>\n",
       "    <tr style=\"text-align: right;\">\n",
       "      <th></th>\n",
       "      <th>Ed</th>\n",
       "      <th>Po1</th>\n",
       "      <th>LF</th>\n",
       "      <th>M.F</th>\n",
       "      <th>Pop</th>\n",
       "      <th>U2</th>\n",
       "      <th>Wealth</th>\n",
       "      <th>Ineq</th>\n",
       "      <th>Prob</th>\n",
       "      <th>Time</th>\n",
       "    </tr>\n",
       "  </thead>\n",
       "  <tbody>\n",
       "    <tr>\n",
       "      <th>0</th>\n",
       "      <td>9.1</td>\n",
       "      <td>5.8</td>\n",
       "      <td>0.510</td>\n",
       "      <td>95.0</td>\n",
       "      <td>33</td>\n",
       "      <td>4.1</td>\n",
       "      <td>3940</td>\n",
       "      <td>26.1</td>\n",
       "      <td>0.084602</td>\n",
       "      <td>26.2011</td>\n",
       "    </tr>\n",
       "    <tr>\n",
       "      <th>1</th>\n",
       "      <td>11.3</td>\n",
       "      <td>10.3</td>\n",
       "      <td>0.583</td>\n",
       "      <td>101.2</td>\n",
       "      <td>13</td>\n",
       "      <td>3.6</td>\n",
       "      <td>5570</td>\n",
       "      <td>19.4</td>\n",
       "      <td>0.029599</td>\n",
       "      <td>25.2999</td>\n",
       "    </tr>\n",
       "    <tr>\n",
       "      <th>2</th>\n",
       "      <td>8.9</td>\n",
       "      <td>4.5</td>\n",
       "      <td>0.533</td>\n",
       "      <td>96.9</td>\n",
       "      <td>18</td>\n",
       "      <td>3.3</td>\n",
       "      <td>3180</td>\n",
       "      <td>25.0</td>\n",
       "      <td>0.083401</td>\n",
       "      <td>24.3006</td>\n",
       "    </tr>\n",
       "    <tr>\n",
       "      <th>3</th>\n",
       "      <td>12.1</td>\n",
       "      <td>14.9</td>\n",
       "      <td>0.577</td>\n",
       "      <td>99.4</td>\n",
       "      <td>157</td>\n",
       "      <td>3.9</td>\n",
       "      <td>6730</td>\n",
       "      <td>16.7</td>\n",
       "      <td>0.015801</td>\n",
       "      <td>29.9012</td>\n",
       "    </tr>\n",
       "    <tr>\n",
       "      <th>4</th>\n",
       "      <td>12.1</td>\n",
       "      <td>10.9</td>\n",
       "      <td>0.591</td>\n",
       "      <td>98.5</td>\n",
       "      <td>18</td>\n",
       "      <td>2.0</td>\n",
       "      <td>5780</td>\n",
       "      <td>17.4</td>\n",
       "      <td>0.041399</td>\n",
       "      <td>21.2998</td>\n",
       "    </tr>\n",
       "  </tbody>\n",
       "</table>\n",
       "</div>"
      ],
      "text/plain": [
       "     Ed   Po1     LF    M.F  Pop   U2  Wealth  Ineq      Prob     Time\n",
       "0   9.1   5.8  0.510   95.0   33  4.1    3940  26.1  0.084602  26.2011\n",
       "1  11.3  10.3  0.583  101.2   13  3.6    5570  19.4  0.029599  25.2999\n",
       "2   8.9   4.5  0.533   96.9   18  3.3    3180  25.0  0.083401  24.3006\n",
       "3  12.1  14.9  0.577   99.4  157  3.9    6730  16.7  0.015801  29.9012\n",
       "4  12.1  10.9  0.591   98.5   18  2.0    5780  17.4  0.041399  21.2998"
      ]
     },
     "execution_count": 38,
     "metadata": {},
     "output_type": "execute_result"
    }
   ],
   "source": [
    "conditional = (corr_value > -0.7) & (corr_value < -0.1) | (corr_value > 0.1) & (corr_value < 0.7)\n",
    "\n",
    "X_3 = X[df_crimes.loc[:, conditional].columns.values]\n",
    "\n",
    "X_3.head(5)"
   ]
  },
  {
   "cell_type": "code",
   "execution_count": 39,
   "metadata": {},
   "outputs": [],
   "source": [
    "preprocessor = ColumnTransformer(\n",
    "                    transformers=[\n",
    "                        ('num', numerical_transformer, X_3.columns.values)])\n",
    "\n",
    "corr2_linreg = Pipeline(steps=[('preprocessor', preprocessor),\n",
    "                      ('classifier', LinearRegression(normalize=False))])"
   ]
  },
  {
   "cell_type": "code",
   "execution_count": 40,
   "metadata": {},
   "outputs": [],
   "source": [
    "X_train, X_test, y_train, y_test = train_test_split(X_3, y, test_size=0.3, random_state=42, shuffle=True)"
   ]
  },
  {
   "cell_type": "code",
   "execution_count": 41,
   "metadata": {},
   "outputs": [
    {
     "data": {
      "text/plain": [
       "Pipeline(steps=[('preprocessor',\n",
       "                 ColumnTransformer(transformers=[('num',\n",
       "                                                  Pipeline(steps=[('scaler',\n",
       "                                                                   StandardScaler())]),\n",
       "                                                  array(['Ed', 'Po1', 'LF', 'M.F', 'Pop', 'U2', 'Wealth', 'Ineq', 'Prob',\n",
       "       'Time'], dtype=object))])),\n",
       "                ('classifier', LinearRegression())])"
      ]
     },
     "execution_count": 41,
     "metadata": {},
     "output_type": "execute_result"
    }
   ],
   "source": [
    "corr2_linreg.fit(X_train, y_train)"
   ]
  },
  {
   "cell_type": "code",
   "execution_count": 42,
   "metadata": {},
   "outputs": [],
   "source": [
    "train_score = corr2_linreg.score(X_train, y_train)\n",
    "test_score = corr2_linreg.score(X_test, y_test)\n",
    "crime = corr2_linreg.predict(to_predict[X_3.columns])"
   ]
  },
  {
   "cell_type": "code",
   "execution_count": 43,
   "metadata": {},
   "outputs": [],
   "source": [
    "results['corr2_linreg'] = {'train_score': train_score,\n",
    "                          'test_score': test_score,\n",
    "                          'predicted': crime[0]}"
   ]
  },
  {
   "cell_type": "code",
   "execution_count": 44,
   "metadata": {},
   "outputs": [
    {
     "data": {
      "text/html": [
       "<div>\n",
       "<style scoped>\n",
       "    .dataframe tbody tr th:only-of-type {\n",
       "        vertical-align: middle;\n",
       "    }\n",
       "\n",
       "    .dataframe tbody tr th {\n",
       "        vertical-align: top;\n",
       "    }\n",
       "\n",
       "    .dataframe thead th {\n",
       "        text-align: right;\n",
       "    }\n",
       "</style>\n",
       "<table border=\"1\" class=\"dataframe\">\n",
       "  <thead>\n",
       "    <tr style=\"text-align: right;\">\n",
       "      <th></th>\n",
       "      <th>full_linreg</th>\n",
       "      <th>corr_linreg</th>\n",
       "      <th>corr2_linreg</th>\n",
       "    </tr>\n",
       "  </thead>\n",
       "  <tbody>\n",
       "    <tr>\n",
       "      <th>train_score</th>\n",
       "      <td>0.685150</td>\n",
       "      <td>0.412042</td>\n",
       "      <td>0.628451</td>\n",
       "    </tr>\n",
       "    <tr>\n",
       "      <th>test_score</th>\n",
       "      <td>0.777805</td>\n",
       "      <td>0.509093</td>\n",
       "      <td>0.714045</td>\n",
       "    </tr>\n",
       "    <tr>\n",
       "      <th>predicted</th>\n",
       "      <td>1056.277974</td>\n",
       "      <td>1370.027254</td>\n",
       "      <td>1079.278671</td>\n",
       "    </tr>\n",
       "  </tbody>\n",
       "</table>\n",
       "</div>"
      ],
      "text/plain": [
       "             full_linreg  corr_linreg  corr2_linreg\n",
       "train_score     0.685150     0.412042      0.628451\n",
       "test_score      0.777805     0.509093      0.714045\n",
       "predicted    1056.277974  1370.027254   1079.278671"
      ]
     },
     "execution_count": 44,
     "metadata": {},
     "output_type": "execute_result"
    }
   ],
   "source": [
    "pd.DataFrame(results)"
   ]
  },
  {
   "cell_type": "markdown",
   "metadata": {},
   "source": [
    "Compared with the first correlation selection approach, we did have some improvements with the second approach, where more variables were used, but still not a very good test score if we look at the results using all variables.\n",
    "\n",
    "Now we can apply a different kind of linear regression, called `Elastic Net`, which uses both taxicab metric ($L_{1}$) and the euclidean norm ($L_{2}$) to minimize the differences."
   ]
  },
  {
   "cell_type": "code",
   "execution_count": 45,
   "metadata": {},
   "outputs": [],
   "source": [
    "preprocessor = ColumnTransformer(\n",
    "                    transformers=[\n",
    "                        ('num', numerical_transformer, X.columns.values)])\n",
    "\n",
    "full_elastic = Pipeline(steps=[('preprocessor', preprocessor),\n",
    "                      ('regression', ElasticNet())])"
   ]
  },
  {
   "cell_type": "code",
   "execution_count": 46,
   "metadata": {},
   "outputs": [],
   "source": [
    "X_train, X_test, y_train, y_test = train_test_split(X, y, test_size=0.3, random_state=42, shuffle=True)"
   ]
  },
  {
   "cell_type": "code",
   "execution_count": 47,
   "metadata": {},
   "outputs": [
    {
     "data": {
      "text/plain": [
       "Pipeline(steps=[('preprocessor',\n",
       "                 ColumnTransformer(transformers=[('num',\n",
       "                                                  Pipeline(steps=[('scaler',\n",
       "                                                                   StandardScaler())]),\n",
       "                                                  array(['M', 'So', 'Ed', 'Po1', 'LF', 'M.F', 'Pop', 'NW', 'U1', 'U2',\n",
       "       'Wealth', 'Ineq', 'Prob', 'Time'], dtype=object))])),\n",
       "                ('regression', ElasticNet())])"
      ]
     },
     "execution_count": 47,
     "metadata": {},
     "output_type": "execute_result"
    }
   ],
   "source": [
    "full_elastic.fit(X_train, y_train)"
   ]
  },
  {
   "cell_type": "code",
   "execution_count": 48,
   "metadata": {},
   "outputs": [],
   "source": [
    "train_score = full_elastic.score(X_train, y_train)\n",
    "test_score = full_elastic.score(X_test, y_test)\n",
    "crime = full_elastic.predict(to_predict[X.columns])"
   ]
  },
  {
   "cell_type": "code",
   "execution_count": 49,
   "metadata": {},
   "outputs": [],
   "source": [
    "results['full_elastic'] = {'train_score': train_score,\n",
    "                          'test_score': test_score,\n",
    "                          'predicted': crime[0]}"
   ]
  },
  {
   "cell_type": "code",
   "execution_count": 50,
   "metadata": {},
   "outputs": [
    {
     "data": {
      "text/html": [
       "<div>\n",
       "<style scoped>\n",
       "    .dataframe tbody tr th:only-of-type {\n",
       "        vertical-align: middle;\n",
       "    }\n",
       "\n",
       "    .dataframe tbody tr th {\n",
       "        vertical-align: top;\n",
       "    }\n",
       "\n",
       "    .dataframe thead th {\n",
       "        text-align: right;\n",
       "    }\n",
       "</style>\n",
       "<table border=\"1\" class=\"dataframe\">\n",
       "  <thead>\n",
       "    <tr style=\"text-align: right;\">\n",
       "      <th></th>\n",
       "      <th>full_linreg</th>\n",
       "      <th>corr_linreg</th>\n",
       "      <th>corr2_linreg</th>\n",
       "      <th>full_elastic</th>\n",
       "    </tr>\n",
       "  </thead>\n",
       "  <tbody>\n",
       "    <tr>\n",
       "      <th>train_score</th>\n",
       "      <td>0.685150</td>\n",
       "      <td>0.412042</td>\n",
       "      <td>0.628451</td>\n",
       "      <td>0.487981</td>\n",
       "    </tr>\n",
       "    <tr>\n",
       "      <th>test_score</th>\n",
       "      <td>0.777805</td>\n",
       "      <td>0.509093</td>\n",
       "      <td>0.714045</td>\n",
       "      <td>0.402837</td>\n",
       "    </tr>\n",
       "    <tr>\n",
       "      <th>predicted</th>\n",
       "      <td>1056.277974</td>\n",
       "      <td>1370.027254</td>\n",
       "      <td>1079.278671</td>\n",
       "      <td>894.004405</td>\n",
       "    </tr>\n",
       "  </tbody>\n",
       "</table>\n",
       "</div>"
      ],
      "text/plain": [
       "             full_linreg  corr_linreg  corr2_linreg  full_elastic\n",
       "train_score     0.685150     0.412042      0.628451      0.487981\n",
       "test_score      0.777805     0.509093      0.714045      0.402837\n",
       "predicted    1056.277974  1370.027254   1079.278671    894.004405"
      ]
     },
     "execution_count": 50,
     "metadata": {},
     "output_type": "execute_result"
    }
   ],
   "source": [
    "pd.DataFrame(results)"
   ]
  },
  {
   "cell_type": "markdown",
   "metadata": {},
   "source": [
    "If we look at the variables description, we can use our infer about "
   ]
  },
  {
   "cell_type": "code",
   "execution_count": 51,
   "metadata": {},
   "outputs": [
    {
     "data": {
      "text/html": [
       "<div>\n",
       "<style scoped>\n",
       "    .dataframe tbody tr th:only-of-type {\n",
       "        vertical-align: middle;\n",
       "    }\n",
       "\n",
       "    .dataframe tbody tr th {\n",
       "        vertical-align: top;\n",
       "    }\n",
       "\n",
       "    .dataframe thead th {\n",
       "        text-align: right;\n",
       "    }\n",
       "</style>\n",
       "<table border=\"1\" class=\"dataframe\">\n",
       "  <thead>\n",
       "    <tr style=\"text-align: right;\">\n",
       "      <th></th>\n",
       "      <th>M</th>\n",
       "      <th>Ed</th>\n",
       "      <th>Po1</th>\n",
       "      <th>U2</th>\n",
       "      <th>Ineq</th>\n",
       "      <th>Prob</th>\n",
       "    </tr>\n",
       "  </thead>\n",
       "  <tbody>\n",
       "    <tr>\n",
       "      <th>0</th>\n",
       "      <td>15.1</td>\n",
       "      <td>9.1</td>\n",
       "      <td>5.8</td>\n",
       "      <td>4.1</td>\n",
       "      <td>26.1</td>\n",
       "      <td>0.084602</td>\n",
       "    </tr>\n",
       "    <tr>\n",
       "      <th>1</th>\n",
       "      <td>14.3</td>\n",
       "      <td>11.3</td>\n",
       "      <td>10.3</td>\n",
       "      <td>3.6</td>\n",
       "      <td>19.4</td>\n",
       "      <td>0.029599</td>\n",
       "    </tr>\n",
       "    <tr>\n",
       "      <th>2</th>\n",
       "      <td>14.2</td>\n",
       "      <td>8.9</td>\n",
       "      <td>4.5</td>\n",
       "      <td>3.3</td>\n",
       "      <td>25.0</td>\n",
       "      <td>0.083401</td>\n",
       "    </tr>\n",
       "  </tbody>\n",
       "</table>\n",
       "</div>"
      ],
      "text/plain": [
       "      M    Ed   Po1   U2  Ineq      Prob\n",
       "0  15.1   9.1   5.8  4.1  26.1  0.084602\n",
       "1  14.3  11.3  10.3  3.6  19.4  0.029599\n",
       "2  14.2   8.9   4.5  3.3  25.0  0.083401"
      ]
     },
     "execution_count": 51,
     "metadata": {},
     "output_type": "execute_result"
    }
   ],
   "source": [
    "website_var = ['M', 'Ed', 'Po1', 'U2', 'Ineq', 'Prob']\n",
    "\n",
    "X_4 = X[website_var]\n",
    "X_4.head(3)"
   ]
  },
  {
   "cell_type": "code",
   "execution_count": 52,
   "metadata": {},
   "outputs": [],
   "source": [
    "preprocessor = ColumnTransformer(\n",
    "                    transformers=[\n",
    "                        ('num', numerical_transformer, X_4.columns.values)])\n",
    "\n",
    "web_linreg = Pipeline(steps=[('preprocessor', preprocessor),\n",
    "                      ('classifier', LinearRegression(normalize=False))])"
   ]
  },
  {
   "cell_type": "code",
   "execution_count": 53,
   "metadata": {},
   "outputs": [],
   "source": [
    "X_train, X_test, y_train, y_test = train_test_split(X_4, y, test_size=0.3, random_state=42, shuffle=True)"
   ]
  },
  {
   "cell_type": "code",
   "execution_count": 54,
   "metadata": {},
   "outputs": [
    {
     "data": {
      "text/plain": [
       "Pipeline(steps=[('preprocessor',\n",
       "                 ColumnTransformer(transformers=[('num',\n",
       "                                                  Pipeline(steps=[('scaler',\n",
       "                                                                   StandardScaler())]),\n",
       "                                                  array(['M', 'Ed', 'Po1', 'U2', 'Ineq', 'Prob'], dtype=object))])),\n",
       "                ('classifier', LinearRegression())])"
      ]
     },
     "execution_count": 54,
     "metadata": {},
     "output_type": "execute_result"
    }
   ],
   "source": [
    "web_linreg.fit(X_train, y_train)"
   ]
  },
  {
   "cell_type": "code",
   "execution_count": 55,
   "metadata": {},
   "outputs": [],
   "source": [
    "train_score = web_linreg.score(X_train, y_train)\n",
    "test_score = web_linreg.score(X_test, y_test)\n",
    "crime = web_linreg.predict(to_predict[X_4.columns])"
   ]
  },
  {
   "cell_type": "code",
   "execution_count": 56,
   "metadata": {},
   "outputs": [],
   "source": [
    "results['web_linreg'] = {'train_score': train_score,\n",
    "                          'test_score': test_score,\n",
    "                          'predicted': crime[0]}"
   ]
  },
  {
   "cell_type": "code",
   "execution_count": 57,
   "metadata": {},
   "outputs": [
    {
     "data": {
      "text/html": [
       "<div>\n",
       "<style scoped>\n",
       "    .dataframe tbody tr th:only-of-type {\n",
       "        vertical-align: middle;\n",
       "    }\n",
       "\n",
       "    .dataframe tbody tr th {\n",
       "        vertical-align: top;\n",
       "    }\n",
       "\n",
       "    .dataframe thead th {\n",
       "        text-align: right;\n",
       "    }\n",
       "</style>\n",
       "<table border=\"1\" class=\"dataframe\">\n",
       "  <thead>\n",
       "    <tr style=\"text-align: right;\">\n",
       "      <th></th>\n",
       "      <th>full_linreg</th>\n",
       "      <th>corr_linreg</th>\n",
       "      <th>corr2_linreg</th>\n",
       "      <th>full_elastic</th>\n",
       "      <th>web_linreg</th>\n",
       "    </tr>\n",
       "  </thead>\n",
       "  <tbody>\n",
       "    <tr>\n",
       "      <th>train_score</th>\n",
       "      <td>0.685150</td>\n",
       "      <td>0.412042</td>\n",
       "      <td>0.628451</td>\n",
       "      <td>0.487981</td>\n",
       "      <td>0.610551</td>\n",
       "    </tr>\n",
       "    <tr>\n",
       "      <th>test_score</th>\n",
       "      <td>0.777805</td>\n",
       "      <td>0.509093</td>\n",
       "      <td>0.714045</td>\n",
       "      <td>0.402837</td>\n",
       "      <td>0.880846</td>\n",
       "    </tr>\n",
       "    <tr>\n",
       "      <th>predicted</th>\n",
       "      <td>1056.277974</td>\n",
       "      <td>1370.027254</td>\n",
       "      <td>1079.278671</td>\n",
       "      <td>894.004405</td>\n",
       "      <td>1267.121362</td>\n",
       "    </tr>\n",
       "  </tbody>\n",
       "</table>\n",
       "</div>"
      ],
      "text/plain": [
       "             full_linreg  corr_linreg  corr2_linreg  full_elastic   web_linreg\n",
       "train_score     0.685150     0.412042      0.628451      0.487981     0.610551\n",
       "test_score      0.777805     0.509093      0.714045      0.402837     0.880846\n",
       "predicted    1056.277974  1370.027254   1079.278671    894.004405  1267.121362"
      ]
     },
     "execution_count": 57,
     "metadata": {},
     "output_type": "execute_result"
    }
   ],
   "source": [
    "pd.DataFrame(results)"
   ]
  },
  {
   "cell_type": "markdown",
   "metadata": {},
   "source": []
  }
 ],
 "metadata": {
  "kernelspec": {
   "display_name": "Python 3",
   "language": "python",
   "name": "python3"
  },
  "language_info": {
   "codemirror_mode": {
    "name": "ipython",
    "version": 3
   },
   "file_extension": ".py",
   "mimetype": "text/x-python",
   "name": "python",
   "nbconvert_exporter": "python",
   "pygments_lexer": "ipython3",
   "version": "3.7.3"
  }
 },
 "nbformat": 4,
 "nbformat_minor": 4
}
